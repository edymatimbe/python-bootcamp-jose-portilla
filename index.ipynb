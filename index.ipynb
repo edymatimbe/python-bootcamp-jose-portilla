{
 "cells": [
  {
   "cell_type": "code",
   "execution_count": null,
   "metadata": {},
   "outputs": [],
   "source": [
    "myDogs = [\"Edy\", \"Matimbe\"]\n",
    "myNumbers = 10\n",
    "myText = \"We're python Bro\"\n",
    "myObject = {\"name\": \"Paul\", \"age\": 35}\n",
    "\n",
    "print()\n"
   ]
  },
  {
   "cell_type": "code",
   "execution_count": null,
   "metadata": {},
   "outputs": [],
   "source": [
    "# 15. Introduction to Strings\n",
    "\n",
    "print(\"Hello World\")\n",
    "print(\"------------------------------------\")\n",
    "print(\"It's my first python App\")\n",
    "print(\"------------------------------------\")\n",
    "\n",
    "# We use \\n to break a line in python\n",
    "print(\"Hello\\nWorld of Python\")\n",
    "\n",
    "# We use \\t to tab space python\n",
    "print(\"Hello\\tWorld of Python\")\n",
    "\n",
    "# We use type() to return the type\n",
    "len(\"This is life\")\n",
    "\n",
    "# We use len() to to return the lenght of the word or list\n",
    "len(\"This is life\")"
   ]
  },
  {
   "cell_type": "code",
   "execution_count": null,
   "metadata": {},
   "outputs": [],
   "source": [
    "# 16. Indexing and Slicing with Strings\n",
    "myString = \"Hello World\"\n",
    "\n",
    "myString[0]\n",
    "myString[8]\n",
    "\n",
    "myString[-1]\n",
    "myString[-8]\n",
    "\n",
    "myString = \"abcdefghijklmno\"\n",
    "\n",
    "# Split the word since the indexed position to the end [3:] not include the indexed position\n",
    "myString[3:]\n",
    "\n",
    "# Split the word since the begining until indexed position [:3] not include the indexed position\n",
    "myString[:3]\n",
    "\n",
    "# Split the word since the begining indexed until ended indexed\n",
    "myString[3: 6]\n",
    "\n",
    "# Split returns all text but add 2 since the second index \n",
    "myString[::2]\n",
    "\n",
    "# Split returns all in the current condition\n",
    "myString[\"start\":\"size\":\"step size\"]\n",
    "\n",
    "# Split returns all text but add 2 since the second index in the reverse\n",
    "myString[::-2]\n",
    "\n",
    "\n",
    "\n",
    "# "
   ]
  },
  {
   "cell_type": "code",
   "execution_count": null,
   "metadata": {},
   "outputs": [],
   "source": []
  },
  {
   "cell_type": "code",
   "execution_count": null,
   "metadata": {},
   "outputs": [],
   "source": [
    "# 17. String Properties and Methods\n",
    "x = \"hello world\"\n",
    "\n",
    "# + signal concatenates only strings\n",
    "(x[0].upper() + x[1:])\n",
    "\n",
    "# split Allow us to split a character split(), empty split it will transfor to list using space\n",
    "y = \"More Life\"\n",
    "y.split()"
   ]
  },
  {
   "cell_type": "code",
   "execution_count": null,
   "metadata": {},
   "outputs": [],
   "source": [
    "# 19. Print Formatting with Strings\n",
    "\n",
    "# print(\"Testing formats {} {}\".format('of formating', 'text lines'))\n",
    "\n",
    "# .format using key value pair\n",
    "# print(\"Testing formats {te} {of}\".format(of ='of formating', te ='text lines'))\n",
    "\n",
    "# .format using using float values {value:width.precision f}\n",
    "result = 100/777\n",
    "\n",
    "print(\"The result is equal to {r:1.3f}\".format(r = result))\n",
    "\n",
    "# .format using new ways of doing it\n",
    "name = \"Edy\"\n",
    "\n",
    "print(f\"My name is {name}\")"
   ]
  },
  {
   "cell_type": "code",
   "execution_count": 7,
   "metadata": {
    "tags": []
   },
   "outputs": [
    {
     "data": {
      "text/plain": [
       "['e', 'd', 'c', 'b', 'a']"
      ]
     },
     "execution_count": 7,
     "metadata": {},
     "output_type": "execute_result"
    }
   ],
   "source": [
    "# 21. Lists in Python\n",
    "your_list = [1, 2, 3]\n",
    "\n",
    "# Mixing different data types\n",
    "my_list = ['String', 100, 23.2]\n",
    "\n",
    "# Size of array list\n",
    "len(my_list)\n",
    "\n",
    "# Mutating index[0]\n",
    "my_list[0] = 'Changing List'\n",
    "\n",
    "# concatenate\n",
    "new_list = my_list + your_list\n",
    "\n",
    "# Appending a new value to a list\n",
    "new_list.append(4)\n",
    "\n",
    "# removesthe last value from a list if we want to remove from a certain position insert the index in the pop()\n",
    "new_list.pop()\n",
    "\n",
    "# sort\n",
    "sort_list = ['a', 'c','e', 'b', 'd']\n",
    "\n",
    "sort_list.sort()\n",
    "\n",
    "my_sorted_list = sort_list\n",
    "\n",
    "type(my_sorted_list)\n",
    "\n",
    "# Setting the list in the reverse\n",
    "sort_list.reverse()\n",
    "\n",
    "sort_list\n",
    "# NoneType"
   ]
  },
  {
   "cell_type": "code",
   "execution_count": 20,
   "metadata": {},
   "outputs": [
    {
     "data": {
      "text/plain": [
       "dict_items([('name', 'Edy'), ('aspect', ['black', 'male']), ('phisic', {'height': 1.75, 'weight': 50}), ('gender', 'male')])"
      ]
     },
     "execution_count": 20,
     "metadata": {},
     "output_type": "execute_result"
    }
   ],
   "source": [
    "# 23. Dictionaries in Python\n",
    "my_dict = {\n",
    "  \"name\": 'Edy'\n",
    "}\n",
    "\n",
    "my_dict['name']\n",
    "\n",
    "# \n",
    "prices_lookup = {\n",
    "  'apple': 2.99,\n",
    "  'milk': 5.80,\n",
    "  'oranges': 1.99\n",
    "}\n",
    "\n",
    "# Dictionary with Nested values\n",
    "Dict_nary = {\n",
    "  'name': 'Edy',\n",
    "  'aspect': ['black', 'male'],\n",
    "  'phisic': {\n",
    "    'height': 1.75,\n",
    "    'weight': 50\n",
    "  }\n",
    "}\n",
    "\n",
    "Dict_nary['phisic']['weight']\n",
    "\n",
    "# Add a new key value pair to any dictionary\n",
    "Dict_nary['gender'] = 'male'\n",
    "\n",
    "# Pick all keys values\n",
    "Dict_nary.values()\n",
    "\n",
    "# Pick all keys\n",
    "Dict_nary.keys()\n",
    "\n",
    "# Call all dictionary  utems\n",
    "Dict_nary.items()\n"
   ]
  },
  {
   "cell_type": "code",
   "execution_count": 29,
   "metadata": {},
   "outputs": [
    {
     "data": {
      "text/plain": [
       "2"
      ]
     },
     "execution_count": 29,
     "metadata": {},
     "output_type": "execute_result"
    }
   ],
   "source": [
    "# 25. Tuples with Python tuples uses parenthesis\n",
    "new_tuple = (1, 2, 3, 'this tuple is strange', 3, 2, 1)\n",
    "# COunt how many times appeas\n",
    "new_tuple.count(1)\n",
    "\n",
    "# show thw index of the value\n",
    "new_tuple.index(3)\n",
    "\n"
   ]
  },
  {
   "cell_type": "code",
   "execution_count": 45,
   "metadata": {},
   "outputs": [
    {
     "name": "stdout",
     "output_type": "stream",
     "text": [
      "{1, 2, 3, 4, 5}\n"
     ]
    },
    {
     "data": {
      "text/plain": [
       "'Lv si h i'"
      ]
     },
     "execution_count": 45,
     "metadata": {},
     "output_type": "execute_result"
    }
   ],
   "source": [
    "# 26. Sets in Python\n",
    "myset = set()\n",
    "\n",
    "myset.add(1)\n",
    "\n",
    "myset.add(2)\n",
    "\n",
    "my_list = [1,1,1,1,1,2,2,2,2,2,3,3,3,3,3,4,4,4,4,4,5,5,5,5]\n",
    "new_set = set(my_list)\n",
    "\n",
    "love = \"Love is in the air\"\n",
    "print(new_set)\n",
    "love[::2]\n",
    "\n"
   ]
  },
  {
   "cell_type": "code",
   "execution_count": 4,
   "metadata": {},
   "outputs": [],
   "source": [
    "# 27. Booleans in Python\n",
    "nane = True\n",
    "nena = False\n"
   ]
  },
  {
   "cell_type": "code",
   "execution_count": null,
   "metadata": {},
   "outputs": [],
   "source": [
    "# 28. I/O with Basic Files in Python\n",
    "\n",
    "%%writefile myfile.txt\n",
    "Hello this is a text Files\n",
    "this is the second line\n",
    "this is the thrid third line\n"
   ]
  },
  {
   "cell_type": "code",
   "execution_count": 26,
   "metadata": {},
   "outputs": [
    {
     "data": {
      "text/plain": [
       "'this is the second line\\nthis is the thrid third line'"
      ]
     },
     "execution_count": 26,
     "metadata": {},
     "output_type": "execute_result"
    }
   ],
   "source": [
    "myfile = open('myfile.txt')\n",
    "myfile.read()\n",
    "\n",
    "myfile.seek(0)\n",
    "\n",
    "myfile.read()\n",
    "\n",
    "myfile.seek(0)\n",
    "\n",
    "myfile.readlines()\n",
    "\n",
    "\n",
    "# ------------------------------\n",
    "with open('myfile.txt') as my_new_file:\n",
    "  contents = my_new_file.read()\n",
    "\n",
    "contents"
   ]
  },
  {
   "cell_type": "code",
   "execution_count": null,
   "metadata": {},
   "outputs": [],
   "source": [
    "with open('myfile.txt', mode='r') as myfile:\n",
    "  contents = myfile.read()\n",
    "\n",
    "contents\n",
    "\n",
    "# -------------------------------------------\n",
    "with open('myfile.txt', mode='w') as myfile:\n",
    "  contents = myfile.read()\n",
    "\n",
    "contents\n"
   ]
  },
  {
   "cell_type": "code",
   "execution_count": 38,
   "metadata": {},
   "outputs": [
    {
     "name": "stdout",
     "output_type": "stream",
     "text": [
      "The test to insert\n",
      " More one to insert\n"
     ]
    }
   ],
   "source": [
    "with open('test.txt', mode='w') as tt:\n",
    "  tt.write('The test to insert')\n",
    "\n",
    "with open ('test.txt', mode='a') as tt:\n",
    "  tt.write('\\n More one to insert')\n",
    "\n",
    "with open('test.txt', mode = 'r') as tt:\n",
    "  print(tt.read())"
   ]
  },
  {
   "cell_type": "code",
   "execution_count": 63,
   "metadata": {},
   "outputs": [
    {
     "name": "stdout",
     "output_type": "stream",
     "text": [
      "key\n"
     ]
    }
   ],
   "source": [
    "# 30. Python Objects and Data Structures Assessment Test Overview\n",
    "\n",
    "# my_list = [1, 2, 3, 4, 5]\n",
    "\n",
    "# for item_list in range(len(my_list)):\n",
    "#   print(f\"{item_list}: {my_list[item_list]}\")\n",
    "\n",
    "\n",
    "# tuples = (1, 2), (3, 4)\n",
    "\n",
    "# for a, b in tuples:\n",
    "#   print (a)\n",
    "\n",
    "# listed = {'key': 10}\n",
    "\n",
    "# for b, a in listed.items():\n",
    "#   print(b)"
   ]
  },
  {
   "cell_type": "code",
   "execution_count": 4,
   "metadata": {},
   "outputs": [
    {
     "name": "stdout",
     "output_type": "stream",
     "text": [
      "1\n",
      "3\n",
      "4\n"
     ]
    }
   ],
   "source": [
    "listed = [1,2,3,4]\n",
    "cond = 0\n",
    "\n",
    "for item in listed:\n",
    "  if item == 2:\n",
    "    continue \n",
    "  print(item)"
   ]
  },
  {
   "cell_type": "code",
   "execution_count": 19,
   "metadata": {},
   "outputs": [
    {
     "name": "stdout",
     "output_type": "stream",
     "text": [
      "(1, 'a')\n",
      "(2, 'b')\n",
      "(3, 'c')\n",
      "(4, 'd')\n",
      "(5, 'e')\n"
     ]
    },
    {
     "data": {
      "text/plain": [
       "'paul'"
      ]
     },
     "execution_count": 19,
     "metadata": {},
     "output_type": "execute_result"
    }
   ],
   "source": [
    "# 37. Useful Operators in Python\n",
    "listing = [1,2,3,4,5,6]\n",
    "\n",
    "# range\n",
    "# for num in range(0, 10, 3):\n",
    "#   print(num)\n",
    "\n",
    "# index_count = 0\n",
    "# for letter in 'abcde':\n",
    "#   print(index_count, letter)\n",
    "#   index_count+=1\n",
    "\n",
    "# enumerate\n",
    "# word = 'buzzing'\n",
    "# for index, letter in enumerate(word):\n",
    "# print(index, letter)\n",
    "\n",
    "# zip joins two or more lists even\n",
    "mylist1 = [1,2,3,4,5]\n",
    "mylist2 = ['a', 'b', 'c', 'd', 'e']\n",
    "for item in zip(mylist1, mylist2):\n",
    "  print(item)\n",
    "\n",
    "# Casting \n",
    "list(zip(mylist1, mylist2))\n",
    "\n",
    "# Check is is on the list\n",
    "'x' in ['z', 'x', 'y']\n",
    "\n",
    "# 'x' in d.items():\n",
    "# 'x' in d.keys():\n",
    "# 'x' in d.values():\n",
    "\n",
    "# Math operations\n",
    "mylisting = [10,20,30,100,1000,4]\n",
    "min(mylisting)\n",
    "max(mylisting)\n",
    "\n",
    "from random import shuffle\n",
    "from random import randint\n",
    "\n",
    "mylist = [1,2,3,4,5,6,7,8,9]\n",
    "shuffle(mylist)\n",
    "mylist\n",
    "\n",
    "randint(0 , 100)\n",
    "\n",
    "input('type somthing')\n",
    "\n",
    "# Convert to string or float\n",
    "# int(), float, str()\n",
    "\n"
   ]
  },
  {
   "cell_type": "code",
   "execution_count": 36,
   "metadata": {},
   "outputs": [
    {
     "data": {
      "text/plain": [
       "[10, 20, 30, 20, 40, 60, 30, 60, 90]"
      ]
     },
     "execution_count": 36,
     "metadata": {},
     "output_type": "execute_result"
    }
   ],
   "source": [
    "# 38. List Comprehensions in Python\n",
    "mystring = 'hello'\n",
    "mylist = []\n",
    "\n",
    "# for item in mystring:\n",
    "#   mylist.append(item)\n",
    "# mylist\n",
    "\n",
    "# mylist = [letter for letter in mystring]\n",
    "# mylist\n",
    "# mylist = [num**2 for num in range(0, 11)]\n",
    "# mylist\n",
    "# oddnumber = [num if num % 2 == 0 else 'odd' for num in range(0, 10)]\n",
    "# oddnumber\n",
    "\n",
    "\n",
    "# for x in [1, 2, 3]:\n",
    "#   print(f'Multiplying by {x}')\n",
    "#   for y in [10, 20, 30]:\n",
    "#     print(x * y)\n",
    "\n",
    "multiplying = [x * y for x in [1,2,3] for y in [10, 20, 30]]\n",
    "multiplying  "
   ]
  },
  {
   "cell_type": "code",
   "execution_count": 7,
   "metadata": {},
   "outputs": [
    {
     "data": {
      "text/plain": [
       "['abc', 1, 2, 3, 4]"
      ]
     },
     "execution_count": 7,
     "metadata": {},
     "output_type": "execute_result"
    }
   ],
   "source": [
    "# 41. Methods and the Python Documentation\n",
    "\n",
    "mylist = [1,2,3,4]\n",
    "mylist.append(5)\n",
    "\n",
    "mylist\n",
    "\n",
    "mylist.pop()\n",
    "mylist\n",
    "\n",
    "mylist.insert(0, \"abc\")\n",
    "mylist\n"
   ]
  },
  {
   "cell_type": "code",
   "execution_count": 44,
   "metadata": {},
   "outputs": [
    {
     "name": "stdout",
     "output_type": "stream",
     "text": [
      "Abc\n",
      "testinting default paul\n"
     ]
    }
   ],
   "source": [
    "# 42. Introduction to Functions\n",
    "def upper_case(full_name):\n",
    "    my_name = full_name\n",
    "    splt_name = my_name.split(' ')\n",
    "    new_name = []\n",
    "    for sp_name in splt_name:\n",
    "        cap_text = sp_name.capitalize()\n",
    "        new_name.append(cap_text)\n",
    "        conv_text = ' '.join(new_name)\n",
    "\n",
    "    return conv_text\n",
    "\n",
    "fuc_upper = upper_case(input())\n",
    "print(fuc_upper)\n",
    "\n",
    "def say_hello(name='Default'):\n",
    "    print(f'testinting default {name}')\n",
    "\n",
    "say_hello('paul')"
   ]
  },
  {
   "cell_type": "code",
   "execution_count": 6,
   "metadata": {},
   "outputs": [
    {
     "name": "stdout",
     "output_type": "stream",
     "text": [
      "(1, 2, 3, 4, 5, 6, 7, 8, 9)\n",
      "---------------------------------------------\n",
      "{'veggie': 'tomato', 'fruit': 'orange'}\n",
      "My fruit of choice is orange\n",
      "---------------------------------------------\n",
      "the number of index 0 is 10 and the food is lasagna\n"
     ]
    }
   ],
   "source": [
    "# 49. *args and **kwargs in Python \n",
    "\n",
    "def my_args(*args):\n",
    "    print(args)\n",
    "\n",
    "my_args(1,2,3,4,5,6,7,8,9)\n",
    "\n",
    "print('---------------------------------------------')\n",
    "\n",
    "def my_func(**kwargs):\n",
    "    print(kwargs)\n",
    "    if 'fruit' in kwargs:\n",
    "        print('My fruit of choice is {}'.format(kwargs['fruit']))\n",
    "    else:\n",
    "        print('I did not find any fruit here')\n",
    "\n",
    "my_func(veggie = 'tomato', fruit = 'orange')\n",
    "\n",
    "print('---------------------------------------------')\n",
    "\n",
    "def mixing(*args, **kwargs):\n",
    "    print('the number of index 0 is {index_num} and the food is {index_food}'.format(index_num = args[0], index_food = kwargs['food']))\n",
    "\n",
    "mixing(10,20,30,40, fruit= 'banana', food = 'lasagna')\n"
   ]
  },
  {
   "cell_type": "code",
   "execution_count": 11,
   "metadata": {},
   "outputs": [
    {
     "data": {
      "text/plain": [
       "[2, 4, 6, 8, 10]"
      ]
     },
     "execution_count": 11,
     "metadata": {},
     "output_type": "execute_result"
    }
   ],
   "source": [
    "def myfunc(*args):\n",
    "    nums = []\n",
    "    for arg in args:\n",
    "        if arg % 2 == 0:\n",
    "            nums.append(arg)\n",
    "        else:\n",
    "            pass\n",
    "    return nums\n",
    "\n",
    "myfunc(1,2,3,4,5,6,7,8,9,10)"
   ]
  },
  {
   "cell_type": "code",
   "execution_count": 29,
   "metadata": {},
   "outputs": [
    {
     "data": {
      "text/plain": [
       "'EdYmAtImBe'"
      ]
     },
     "execution_count": 29,
     "metadata": {},
     "output_type": "execute_result"
    }
   ],
   "source": [
    "def myfunc(letters):\n",
    "    new_word = \"\"\n",
    "    for index in range(len(letters)):\n",
    "        if index % 2 == 0:\n",
    "            # new_word.append(letters[index].upper())\n",
    "            new_word = new_word + letters[index].upper()\n",
    "        else:\n",
    "            # new_word.append(letters[index].lower())\n",
    "            new_word = new_word + letters[index].lower()\n",
    "    # return ''.join(new_word)\n",
    "    return new_word\n",
    "\n",
    "\n",
    "myfunc('eDyMaTiMbE')"
   ]
  },
  {
   "attachments": {},
   "cell_type": "markdown",
   "metadata": {},
   "source": [
    "\n"
   ]
  }
 ],
 "metadata": {
  "kernelspec": {
   "display_name": "Python 3",
   "language": "python",
   "name": "python3"
  },
  "language_info": {
   "codemirror_mode": {
    "name": "ipython",
    "version": 3
   },
   "file_extension": ".py",
   "mimetype": "text/x-python",
   "name": "python",
   "nbconvert_exporter": "python",
   "pygments_lexer": "ipython3",
   "version": "3.10.1"
  },
  "orig_nbformat": 4,
  "vscode": {
   "interpreter": {
    "hash": "5ea1c175b39997c76b3d2f2c744133481baaa669943dd3e2da9ef8a500ea8a06"
   }
  }
 },
 "nbformat": 4,
 "nbformat_minor": 2
}
